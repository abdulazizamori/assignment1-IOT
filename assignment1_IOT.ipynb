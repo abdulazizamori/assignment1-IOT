{
  "nbformat": 4,
  "nbformat_minor": 0,
  "metadata": {
    "colab": {
      "provenance": []
    },
    "kernelspec": {
      "name": "python3",
      "display_name": "Python 3"
    },
    "language_info": {
      "name": "python"
    }
  },
  "cells": [
    {
      "cell_type": "code",
      "execution_count": 2,
      "metadata": {
        "id": "U9w1ccCnmRqa"
      },
      "outputs": [],
      "source": [
        "def calculate_sum(*args):\n",
        "    return sum(args)"
      ]
    },
    {
      "cell_type": "code",
      "source": [
        "def generate_fibonacci(N):\n",
        "    a, b = 0, 1\n",
        "    fibonacci_sequence = []\n",
        "    for _ in range(N):\n",
        "        fibonacci_sequence.append(a)\n",
        "        a, b = b, a + b\n",
        "    print(\" \".join(map(str, fibonacci_sequence)))\n"
      ],
      "metadata": {
        "id": "dgIf_gsEmhLo"
      },
      "execution_count": 4,
      "outputs": []
    },
    {
      "cell_type": "code",
      "source": [
        "def reverse_string(input_string):\n",
        "    return input_string[::-1]\n"
      ],
      "metadata": {
        "id": "HvbDHqelmsp2"
      },
      "execution_count": 5,
      "outputs": []
    },
    {
      "cell_type": "code",
      "source": [
        "def is_prime(n):\n",
        "    if n <= 1:\n",
        "        return False\n",
        "    if n <= 3:\n",
        "        return True\n",
        "    if n % 2 == 0 or n % 3 == 0:\n",
        "        return False\n",
        "    i = 5\n",
        "    while i * i <= n:\n",
        "        if n % i == 0 or n % (i + 2) == 0:\n",
        "            return False\n",
        "        i += 6\n",
        "    return True\n",
        "\n",
        "def check_prime(num):\n",
        "    if is_prime(num):\n",
        "        print(f\"{num} is prime.\")\n",
        "    else:\n",
        "        print(f\"{num} is not prime.\")\n"
      ],
      "metadata": {
        "id": "IpD9l0kkmul2"
      },
      "execution_count": 6,
      "outputs": []
    },
    {
      "cell_type": "code",
      "source": [
        "def calculate_average(*args):\n",
        "    if len(args) == 0:\n",
        "        return 0\n",
        "    return sum(args) / len(args)\n"
      ],
      "metadata": {
        "id": "NR38IDePmzdm"
      },
      "execution_count": 7,
      "outputs": []
    },
    {
      "cell_type": "code",
      "source": [
        "# Calculate the sum of numbers\n",
        "result_sum = calculate_sum(1, 2, 3, 4, 5)\n",
        "print(\"Sum:\", result_sum)\n",
        "\n",
        "# Generate Fibonacci sequence\n",
        "generate_fibonacci(10)\n",
        "\n",
        "# Reverse a string\n",
        "reversed_str = reverse_string(\"Hello, World!\")\n",
        "print(\"Reversed String:\", reversed_str)\n",
        "\n",
        "# Check if a number is prime\n",
        "check_prime(17)\n",
        "\n",
        "# Calculate the average of numbers\n",
        "result_average = calculate_average(1, 2, 3, 4, 5)\n",
        "print(\"Average:\", result_average)\n"
      ],
      "metadata": {
        "colab": {
          "base_uri": "https://localhost:8080/"
        },
        "id": "aX-NgsbRm0MP",
        "outputId": "4e03ee2f-255d-454c-fdf6-e5f806a819af"
      },
      "execution_count": 8,
      "outputs": [
        {
          "output_type": "stream",
          "name": "stdout",
          "text": [
            "Sum: 15\n",
            "0 1 1 2 3 5 8 13 21 34\n",
            "Reversed String: !dlroW ,olleH\n",
            "17 is prime.\n",
            "Average: 3.0\n"
          ]
        }
      ]
    }
  ]
}