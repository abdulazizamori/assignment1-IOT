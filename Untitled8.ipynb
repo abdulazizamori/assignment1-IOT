{
  "nbformat": 4,
  "nbformat_minor": 0,
  "metadata": {
    "colab": {
      "provenance": []
    },
    "kernelspec": {
      "name": "python3",
      "display_name": "Python 3"
    },
    "language_info": {
      "name": "python"
    }
  },
  "cells": [
    {
      "cell_type": "code",
      "execution_count": 2,
      "metadata": {
        "colab": {
          "base_uri": "https://localhost:8080/"
        },
        "id": "MzG9dJsgpoKw",
        "outputId": "439793fa-8159-4034-cf34-53a144294d1e"
      },
      "outputs": [
        {
          "output_type": "stream",
          "name": "stdout",
          "text": [
            "Reversed String: !dlroW ,olleH\n"
          ]
        }
      ],
      "source": [
        "def reverse_string(input_string):\n",
        "    return input_string[::-1]\n",
        "    # Reverse a string\n",
        "reversed_str = reverse_string(\"Hello, World!\")\n",
        "print(\"Reversed String:\", reversed_str)"
      ]
    }
  ]
}